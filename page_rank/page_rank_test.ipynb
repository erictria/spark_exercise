{
 "cells": [
  {
   "cell_type": "code",
   "execution_count": 1,
   "id": "c8ae1d05",
   "metadata": {},
   "outputs": [],
   "source": [
    "import re\n",
    "import sys\n",
    "from operator import add\n",
    "\n",
    "import findspark\n",
    "from pyspark.sql import SparkSession"
   ]
  },
  {
   "cell_type": "code",
   "execution_count": 16,
   "id": "563837e1",
   "metadata": {},
   "outputs": [],
   "source": [
    "def compute_contributions(urls, rank):\n",
    "    total_urls = len(urls)\n",
    "    for url in urls:\n",
    "        yield (url, rank / total_urls)\n",
    "\n",
    "def parse_neighbors(urls):\n",
    "    parts = re.split(r'\\s+', urls)\n",
    "    print((parts[0], parts[1]))\n",
    "    return parts[0], parts[1]"
   ]
  },
  {
   "cell_type": "code",
   "execution_count": 3,
   "id": "5fb29277",
   "metadata": {},
   "outputs": [],
   "source": [
    "findspark.init('/home/ubuntu/spark-3.3.1-bin-hadoop3')"
   ]
  },
  {
   "cell_type": "code",
   "execution_count": 4,
   "id": "b1aebb2f",
   "metadata": {},
   "outputs": [
    {
     "name": "stderr",
     "output_type": "stream",
     "text": [
      "Setting default log level to \"WARN\".\n",
      "To adjust logging level use sc.setLogLevel(newLevel). For SparkR, use setLogLevel(newLevel).\n"
     ]
    },
    {
     "name": "stdout",
     "output_type": "stream",
     "text": [
      "23/02/17 20:54:10 WARN NativeCodeLoader: Unable to load native-hadoop library for your platform... using builtin-java classes where applicable\n"
     ]
    }
   ],
   "source": [
    "spark = SparkSession.builder\\\n",
    "        .appName('Spark Page Rank Test')\\\n",
    "        .master('spark://172.31.82.177:7077')\\\n",
    "        .getOrCreate()"
   ]
  },
  {
   "cell_type": "code",
   "execution_count": 20,
   "id": "e4d74b1a",
   "metadata": {},
   "outputs": [],
   "source": [
    "lines = spark.read.text(\n",
    "    'hdfs://172.31.82.177:9000/web-BerkStan.txt'\n",
    ").rdd.map(lambda r: r[0])"
   ]
  },
  {
   "cell_type": "code",
   "execution_count": 36,
   "id": "49cfdac8",
   "metadata": {},
   "outputs": [],
   "source": [
    "# lines.show(5)"
   ]
  },
  {
   "cell_type": "code",
   "execution_count": 35,
   "id": "5590affb",
   "metadata": {},
   "outputs": [],
   "source": [
    "# filtered_lines = lines.filter(~(lines.value.contains('#')))"
   ]
  },
  {
   "cell_type": "code",
   "execution_count": 8,
   "id": "1367a374",
   "metadata": {},
   "outputs": [
    {
     "name": "stdout",
     "output_type": "stream",
     "text": [
      "+--------------+\n",
      "|         value|\n",
      "+--------------+\n",
      "|          1\\t2|\n",
      "|          1\\t5|\n",
      "|          1\\t7|\n",
      "|          1\\t8|\n",
      "|          1\\t9|\n",
      "|         1\\t11|\n",
      "|         1\\t17|\n",
      "|     1\\t254913|\n",
      "|     1\\t438238|\n",
      "|254913\\t255378|\n",
      "|254913\\t255379|\n",
      "|254913\\t255383|\n",
      "|254913\\t255384|\n",
      "|254913\\t255392|\n",
      "|254913\\t255393|\n",
      "|254913\\t255394|\n",
      "|254913\\t255396|\n",
      "|254913\\t255399|\n",
      "|254913\\t255401|\n",
      "|254913\\t255402|\n",
      "+--------------+\n",
      "only showing top 20 rows\n",
      "\n"
     ]
    }
   ],
   "source": [
    "# filtered_lines.show()"
   ]
  },
  {
   "cell_type": "code",
   "execution_count": 18,
   "id": "d00026b3",
   "metadata": {},
   "outputs": [
    {
     "name": "stdout",
     "output_type": "stream",
     "text": [
      "('1', '2')\n"
     ]
    },
    {
     "data": {
      "text/plain": [
       "('1', '2')"
      ]
     },
     "execution_count": 18,
     "metadata": {},
     "output_type": "execute_result"
    }
   ],
   "source": [
    "parse_neighbors('1\\t2')"
   ]
  },
  {
   "cell_type": "code",
   "execution_count": 24,
   "id": "bd50b87e",
   "metadata": {},
   "outputs": [],
   "source": [
    "links = lines.map(lambda urls: parse_neighbors(urls)).distinct().groupByKey()"
   ]
  },
  {
   "cell_type": "code",
   "execution_count": 26,
   "id": "296d28cb",
   "metadata": {},
   "outputs": [
    {
     "name": "stderr",
     "output_type": "stream",
     "text": [
      "                                                                                \r"
     ]
    },
    {
     "data": {
      "text/plain": [
       "[('121', <pyspark.resultiterable.ResultIterable at 0x7fa50a6ae8c0>),\n",
       " ('4801', <pyspark.resultiterable.ResultIterable at 0x7fa50a6ae9b0>),\n",
       " ('10866', <pyspark.resultiterable.ResultIterable at 0x7fa50a6aead0>),\n",
       " ('18115', <pyspark.resultiterable.ResultIterable at 0x7fa50a6ae830>),\n",
       " ('18743', <pyspark.resultiterable.ResultIterable at 0x7fa50a6ae9e0>),\n",
       " ('24038', <pyspark.resultiterable.ResultIterable at 0x7fa50a6aec20>),\n",
       " ('24473', <pyspark.resultiterable.ResultIterable at 0x7fa50a6aeb00>),\n",
       " ('31513', <pyspark.resultiterable.ResultIterable at 0x7fa50a6aed10>),\n",
       " ('36635', <pyspark.resultiterable.ResultIterable at 0x7fa50a6aecb0>),\n",
       " ('43855', <pyspark.resultiterable.ResultIterable at 0x7fa50a6aed70>)]"
      ]
     },
     "execution_count": 26,
     "metadata": {},
     "output_type": "execute_result"
    },
    {
     "name": "stderr",
     "output_type": "stream",
     "text": [
      "Exception in thread \"serve RDD 38 with partitions 0\" java.net.SocketTimeoutException: Accept timed out\n",
      "\tat java.net.PlainSocketImpl.socketAccept(Native Method)\n",
      "\tat java.net.AbstractPlainSocketImpl.accept(AbstractPlainSocketImpl.java:409)\n",
      "\tat java.net.ServerSocket.implAccept(ServerSocket.java:560)\n",
      "\tat java.net.ServerSocket.accept(ServerSocket.java:528)\n",
      "\tat org.apache.spark.security.SocketAuthServer$$anon$1.run(SocketAuthServer.scala:64)\n"
     ]
    }
   ],
   "source": [
    "links.take(10)"
   ]
  },
  {
   "cell_type": "code",
   "execution_count": 27,
   "id": "5791017f",
   "metadata": {},
   "outputs": [],
   "source": [
    "ranks = links.map(lambda url_neighbors: (url_neighbors[0], 1.0))"
   ]
  },
  {
   "cell_type": "code",
   "execution_count": 28,
   "id": "efbd8e56",
   "metadata": {},
   "outputs": [],
   "source": [
    "for iteration in range(10):\n",
    "    contribs = links.join(ranks).flatMap(\n",
    "        lambda url_urls_rank: compute_contributions(url_urls_rank[1][0], url_urls_rank[1][1])\n",
    "    )\n",
    "\n",
    "    # Update each page’s rank to be 0.15 + 0.85 * (sum of contributions)\n",
    "    ranks = contribs.reduceByKey(add).mapValues(lambda rank: rank * 0.85 + 0.15)"
   ]
  },
  {
   "cell_type": "code",
   "execution_count": 31,
   "id": "142724fe",
   "metadata": {},
   "outputs": [],
   "source": [
    "# for (link, rank) in ranks.collect():\n",
    "#     print(\"%s has rank: %s.\" % (link, rank))"
   ]
  },
  {
   "cell_type": "code",
   "execution_count": 32,
   "id": "54e62b52",
   "metadata": {},
   "outputs": [],
   "source": [
    "column_names = ['link', 'rank']\n",
    "ranks_df = ranks.toDF(column_names)"
   ]
  },
  {
   "cell_type": "code",
   "execution_count": 33,
   "id": "019981d3",
   "metadata": {},
   "outputs": [
    {
     "name": "stdout",
     "output_type": "stream",
     "text": [
      "+------+-------------------+\n",
      "|  link|               rank|\n",
      "+------+-------------------+\n",
      "|184279|  743.4092370378007|\n",
      "|    33|  660.9927237591636|\n",
      "| 95552| 1235.2985405976256|\n",
      "|  4507| 0.3395100631609302|\n",
      "|  8786| 0.3168753543528795|\n",
      "| 11743|0.20783595295189985|\n",
      "| 20435|0.22789363003509644|\n",
      "| 23568| 0.2977371909687734|\n",
      "| 23530| 0.2977371909687734|\n",
      "| 24417|0.20665739731417815|\n",
      "| 24427|0.20665739731417815|\n",
      "| 43412|0.34619237524637775|\n",
      "| 95248| 0.6580165212328839|\n",
      "| 81900|0.22140463805988567|\n",
      "| 84862| 0.2640529979359341|\n",
      "|100001| 0.7651243061550389|\n",
      "| 82426|0.27528181734557666|\n",
      "| 85611|0.30607848106727764|\n",
      "| 80910|0.27325213260147807|\n",
      "| 80907| 0.2670323008052145|\n",
      "+------+-------------------+\n",
      "only showing top 20 rows\n",
      "\n"
     ]
    }
   ],
   "source": [
    "ranks_df.show()"
   ]
  },
  {
   "cell_type": "code",
   "execution_count": 34,
   "id": "9ac08152",
   "metadata": {},
   "outputs": [],
   "source": [
    "spark.stop()"
   ]
  },
  {
   "cell_type": "code",
   "execution_count": null,
   "id": "cd6f2d77",
   "metadata": {},
   "outputs": [],
   "source": []
  }
 ],
 "metadata": {
  "kernelspec": {
   "display_name": "Python 3 (ipykernel)",
   "language": "python",
   "name": "python3"
  },
  "language_info": {
   "codemirror_mode": {
    "name": "ipython",
    "version": 3
   },
   "file_extension": ".py",
   "mimetype": "text/x-python",
   "name": "python",
   "nbconvert_exporter": "python",
   "pygments_lexer": "ipython3",
   "version": "3.10.6"
  }
 },
 "nbformat": 4,
 "nbformat_minor": 5
}
