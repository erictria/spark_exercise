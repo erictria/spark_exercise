{
 "cells": [
  {
   "cell_type": "markdown",
   "id": "10057489",
   "metadata": {},
   "source": [
    "### DS 5110 Assignment 1 Report\n",
    "#### Eric Tria\n",
    "#### emt4wf"
   ]
  },
  {
   "cell_type": "code",
   "execution_count": 1,
   "id": "4e4d8fdb",
   "metadata": {},
   "outputs": [],
   "source": [
    "import findspark\n",
    "findspark.init('/home/ubuntu/spark-3.3.1-bin-hadoop3')"
   ]
  },
  {
   "cell_type": "code",
   "execution_count": 2,
   "id": "c4a35eaa",
   "metadata": {},
   "outputs": [
    {
     "data": {
      "text/plain": [
       "'/home/ubuntu/spark-3.3.1-bin-hadoop3'"
      ]
     },
     "execution_count": 2,
     "metadata": {},
     "output_type": "execute_result"
    }
   ],
   "source": [
    "findspark.find()"
   ]
  },
  {
   "cell_type": "code",
   "execution_count": 11,
   "id": "77eb719f",
   "metadata": {},
   "outputs": [],
   "source": [
    "from pyspark.sql import SparkSession\n",
    "from pyspark.sql.functions import col"
   ]
  },
  {
   "cell_type": "code",
   "execution_count": 4,
   "id": "efa3cc61",
   "metadata": {},
   "outputs": [
    {
     "name": "stderr",
     "output_type": "stream",
     "text": [
      "Setting default log level to \"WARN\".\n",
      "To adjust logging level use sc.setLogLevel(newLevel). For SparkR, use setLogLevel(newLevel).\n"
     ]
    },
    {
     "name": "stdout",
     "output_type": "stream",
     "text": [
      "23/02/21 03:14:56 WARN NativeCodeLoader: Unable to load native-hadoop library for your platform... using builtin-java classes where applicable\n"
     ]
    }
   ],
   "source": [
    "spark = SparkSession.builder\\\n",
    "    .appName('Spark Assignment 1 Report')\\\n",
    "    .master('spark://172.31.82.177:7077')\\\n",
    "    .getOrCreate()"
   ]
  },
  {
   "cell_type": "code",
   "execution_count": 7,
   "id": "b8c62f7a",
   "metadata": {},
   "outputs": [],
   "source": [
    "# Problem 2\n",
    "\n",
    "p2_df = spark.read.load(\n",
    "    'hdfs://172.31.82.177:9000/export_sorted.csv',\n",
    "    format = 'csv',\n",
    "    inferSchema = 'true',\n",
    "    sep = ',',\n",
    "    header = 'true'\n",
    ")"
   ]
  },
  {
   "cell_type": "code",
   "execution_count": 8,
   "id": "8c1b031b",
   "metadata": {},
   "outputs": [
    {
     "name": "stdout",
     "output_type": "stream",
     "text": [
      "+-------------+---------+----+----+--------------------+---------+--------------------+--------+---------------+--------+------+---------+-------+----+-------------+\n",
      "|battery_level|c02_level|cca2|cca3|                  cn|device_id|         device_name|humidity|             ip|latitude|   lcd|longitude|  scale|temp|    timestamp|\n",
      "+-------------+---------+----+----+--------------------+---------+--------------------+--------+---------------+--------+------+---------+-------+----+-------------+\n",
      "|            5|     1217|  AE| ARE|United Arab Emirates|      501|device-mac-501e4O...|      48|  213.42.16.154|    24.0|yellow|     54.0|Celsius|  16|1458444054343|\n",
      "|            0|      915|  AR| ARG|           Argentina|      227|meter-gauge-2273p...|      34|  200.71.230.81|   -34.6| green|   -58.38|Celsius|  15|1458444054251|\n",
      "|            1|     1189|  AR| ARG|           Argentina|      319|meter-gauge-319Y3...|      54| 200.71.236.145|   -34.6|yellow|   -58.38|Celsius|  25|1458444054287|\n",
      "|            8|     1386|  AR| ARG|           Argentina|      763|meter-gauge-763JW...|      82|    200.55.0.70|   -34.6|yellow|   -58.38|Celsius|  21|1458444054404|\n",
      "|            0|      861|  AR| ARG|           Argentina|      943|meter-gauge-943BT...|      77|  200.59.128.19|   -34.6| green|   -58.38|Celsius|  33|1458444054435|\n",
      "|            5|      939|  AT| AUT|             Austria|       21|  device-mac-21sjz5h|      44|193.200.142.254|    48.2| green|    16.37|Celsius|  30|1458444054131|\n",
      "|            6|     1328|  AT| AUT|             Austria|       75|device-mac-75OLmC...|      96| 143.161.246.65|    48.2|yellow|    16.37|Celsius|  12|1458444054168|\n",
      "|            8|     1287|  AT| AUT|             Austria|      236|sensor-pad-2369xz...|      47|  217.25.119.17|    48.2|yellow|    16.37|Celsius|  22|1458444054256|\n",
      "|            2|     1522|  AT| AUT|             Austria|      257|meter-gauge-257AT...|      26|   87.243.133.1|    47.2|   red|    14.83|Celsius|  16|1458444054266|\n",
      "|            1|      811|  AT| AUT|             Austria|      271|meter-gauge-271BjIL0|      31|  149.148.140.1|    48.2| green|    16.37|Celsius|  16|1458444054271|\n",
      "|            7|      904|  AT| AUT|             Austria|      294|sensor-pad-294FMZ...|      26|     83.65.45.1|    48.2| green|    16.37|Celsius|  14|1458444054279|\n",
      "|            6|      917|  AT| AUT|             Austria|      369|device-mac-369rYH...|      25|  193.239.188.1|    48.2| green|    16.37|Celsius|  23|1458444054303|\n",
      "|            3|      826|  AT| AUT|             Austria|      483|device-mac-483Tyi...|      90| 84.116.245.201|    48.2| green|    16.37|Celsius|  16|1458444054339|\n",
      "|            2|      816|  AT| AUT|             Austria|      504|sensor-pad-504Kdi...|      78| 87.243.151.193|   47.27| green|     11.4|Celsius|  32|1458444054344|\n",
      "|            1|     1196|  AT| AUT|             Austria|      585|device-mac-5851AntHC|      51|   84.116.252.9|    48.2|yellow|    16.37|Celsius|  27|1458444054364|\n",
      "|            4|     1042|  AT| AUT|             Austria|      758| sensor-pad-7589QBtr|      48|   62.218.4.130|    48.2|yellow|    16.37|Celsius|  30|1458444054403|\n",
      "|            5|     1543|  AT| AUT|             Austria|      767|meter-gauge-767rd...|      65|  195.222.121.1|    48.2|   red|    16.37|Celsius|  19|1458444054405|\n",
      "|            0|      941|  AT| AUT|             Austria|      974|sensor-pad-974x9dkX1|      53| 84.116.216.166|    48.2| green|    16.37|Celsius|  26|1458444054439|\n",
      "|            8|      895|  AT| AUT|             Austria|      977|meter-gauge-977yB...|      52|     83.65.95.1|    48.2| green|    16.37|Celsius|  11|1458444054440|\n",
      "|            0|      899|  AU| AUS|           Australia|      111|device-mac-111WYt...|      32| 203.123.94.193|   -27.0| green|    133.0|Celsius|  16|1458444054189|\n",
      "+-------------+---------+----+----+--------------------+---------+--------------------+--------+---------------+--------+------+---------+-------+----+-------------+\n",
      "only showing top 20 rows\n",
      "\n"
     ]
    }
   ],
   "source": [
    "p2_df.show(20)"
   ]
  },
  {
   "cell_type": "code",
   "execution_count": 10,
   "id": "d7fbdf9c",
   "metadata": {},
   "outputs": [
    {
     "name": "stderr",
     "output_type": "stream",
     "text": [
      "                                                                                \r"
     ]
    }
   ],
   "source": [
    "# Problem 3 Task 1\n",
    "\n",
    "p3_t1_df = spark.read.load(\n",
    "    'hdfs://172.31.82.177:9000/page_rank.csv',\n",
    "    format = 'csv',\n",
    "    inferSchema = 'true',\n",
    "    sep = ',',\n",
    "    header = 'true'\n",
    ")"
   ]
  },
  {
   "cell_type": "code",
   "execution_count": 12,
   "id": "151d923e",
   "metadata": {},
   "outputs": [
    {
     "name": "stderr",
     "output_type": "stream",
     "text": [
      "\r",
      "[Stage 8:>                                                          (0 + 2) / 2]\r"
     ]
    },
    {
     "name": "stdout",
     "output_type": "stream",
     "text": [
      "+------+------------------+\n",
      "|  link|              rank|\n",
      "+------+------------------+\n",
      "|272919| 6531.324623752457|\n",
      "|438238| 4335.323158564437|\n",
      "|571448| 2383.897607411892|\n",
      "|601656|2195.3940755967287|\n",
      "|316792| 1855.690875790151|\n",
      "|319209|1632.8193684975695|\n",
      "|184094|1532.2842374483394|\n",
      "|571447| 1492.930163093879|\n",
      "|401873| 1436.160093346928|\n",
      "| 66244|1261.5783958673348|\n",
      "| 68949| 1260.791942134914|\n",
      "|284306| 1257.247565064485|\n",
      "| 68948|1251.1723536459233|\n",
      "| 86239| 1235.298540597626|\n",
      "| 68947| 1235.298540597626|\n",
      "| 86237| 1235.298540597626|\n",
      "| 95551| 1235.298540597626|\n",
      "| 77284|1235.2985405976256|\n",
      "| 96070|1235.2985405976256|\n",
      "| 86238|1235.2985405976256|\n",
      "+------+------------------+\n",
      "only showing top 20 rows\n",
      "\n"
     ]
    },
    {
     "name": "stderr",
     "output_type": "stream",
     "text": [
      "\r",
      "                                                                                \r"
     ]
    }
   ],
   "source": [
    "p3_t1_df.sort(col('rank').desc()).show(20)"
   ]
  },
  {
   "cell_type": "code",
   "execution_count": 13,
   "id": "ec912e3f",
   "metadata": {},
   "outputs": [
    {
     "name": "stderr",
     "output_type": "stream",
     "text": [
      "                                                                                \r"
     ]
    }
   ],
   "source": [
    "# Problem 3 Task 2\n",
    "\n",
    "p3_t2_df = spark.read.load(\n",
    "    'hdfs://172.31.82.177:9000/page_rank_partitioned.csv',\n",
    "    format = 'csv',\n",
    "    inferSchema = 'true',\n",
    "    sep = ',',\n",
    "    header = 'true'\n",
    ")"
   ]
  },
  {
   "cell_type": "code",
   "execution_count": 14,
   "id": "39a533e2",
   "metadata": {},
   "outputs": [
    {
     "name": "stderr",
     "output_type": "stream",
     "text": [
      "\r",
      "[Stage 11:>                                                         (0 + 2) / 2]\r"
     ]
    },
    {
     "name": "stdout",
     "output_type": "stream",
     "text": [
      "+------+------------------+\n",
      "|  link|              rank|\n",
      "+------+------------------+\n",
      "|272919| 6531.324623752432|\n",
      "|438238| 4335.323158564448|\n",
      "|571448| 2383.897607411887|\n",
      "|601656|2195.3940755967283|\n",
      "|316792|1855.6908757901415|\n",
      "|319209|1632.8193684975686|\n",
      "|184094| 1532.284237448331|\n",
      "|571447|1492.9301630938776|\n",
      "|401873|1436.1600933469247|\n",
      "| 66244|1261.5783958673321|\n",
      "| 68949|1260.7919421349116|\n",
      "|284306|1257.2475650644828|\n",
      "| 68948|1251.1723536459206|\n",
      "| 96070|1235.2985405976247|\n",
      "| 86238| 1235.298540597624|\n",
      "| 95551|1235.2985405976233|\n",
      "| 86239|1235.2985405976233|\n",
      "| 68947| 1235.298540597623|\n",
      "| 77284| 1235.298540597623|\n",
      "| 66909| 1235.298540597623|\n",
      "+------+------------------+\n",
      "only showing top 20 rows\n",
      "\n"
     ]
    },
    {
     "name": "stderr",
     "output_type": "stream",
     "text": [
      "\r",
      "[Stage 11:=============================>                            (1 + 1) / 2]\r",
      "\r",
      "                                                                                \r"
     ]
    }
   ],
   "source": [
    "p3_t2_df.sort(col('rank').desc()).show(20)"
   ]
  },
  {
   "cell_type": "code",
   "execution_count": 15,
   "id": "6840e8c7",
   "metadata": {},
   "outputs": [
    {
     "name": "stderr",
     "output_type": "stream",
     "text": [
      "                                                                                \r"
     ]
    }
   ],
   "source": [
    "# Problem 3 Task 3\n",
    "\n",
    "p3_t3_df = spark.read.load(\n",
    "    'hdfs://172.31.82.177:9000/page_rank_task3.csv',\n",
    "    format = 'csv',\n",
    "    inferSchema = 'true',\n",
    "    sep = ',',\n",
    "    header = 'true'\n",
    ")"
   ]
  },
  {
   "cell_type": "code",
   "execution_count": 16,
   "id": "b1e32273",
   "metadata": {},
   "outputs": [
    {
     "name": "stderr",
     "output_type": "stream",
     "text": [
      "\r",
      "[Stage 14:>                                                         (0 + 2) / 2]\r"
     ]
    },
    {
     "name": "stdout",
     "output_type": "stream",
     "text": [
      "+------+------------------+\n",
      "|  link|              rank|\n",
      "+------+------------------+\n",
      "|272919| 6531.324623752428|\n",
      "|438238| 4335.323158564447|\n",
      "|571448| 2383.897607411891|\n",
      "|601656|2195.3940755967283|\n",
      "|316792|1855.6908757901417|\n",
      "|319209| 1632.819368497569|\n",
      "|184094|1532.2842374483303|\n",
      "|571447|1492.9301630938783|\n",
      "|401873|1436.1600933469251|\n",
      "| 66244|1261.5783958673344|\n",
      "| 68949|1260.7919421349136|\n",
      "|284306|1257.2475650644833|\n",
      "| 68948| 1251.172353645923|\n",
      "| 96070|1235.2985405976262|\n",
      "| 68947|1235.2985405976258|\n",
      "| 95552|1235.2985405976256|\n",
      "| 68946|1235.2985405976256|\n",
      "| 86239|1235.2985405976256|\n",
      "| 77284|1235.2985405976256|\n",
      "| 66909|1235.2985405976256|\n",
      "+------+------------------+\n",
      "only showing top 20 rows\n",
      "\n"
     ]
    },
    {
     "name": "stderr",
     "output_type": "stream",
     "text": [
      "\r",
      "                                                                                \r"
     ]
    }
   ],
   "source": [
    "p3_t3_df.sort(col('rank').desc()).show(20)"
   ]
  },
  {
   "cell_type": "code",
   "execution_count": null,
   "id": "362bf21b",
   "metadata": {},
   "outputs": [],
   "source": []
  }
 ],
 "metadata": {
  "kernelspec": {
   "display_name": "Python 3 (ipykernel)",
   "language": "python",
   "name": "python3"
  },
  "language_info": {
   "codemirror_mode": {
    "name": "ipython",
    "version": 3
   },
   "file_extension": ".py",
   "mimetype": "text/x-python",
   "name": "python",
   "nbconvert_exporter": "python",
   "pygments_lexer": "ipython3",
   "version": "3.10.6"
  }
 },
 "nbformat": 4,
 "nbformat_minor": 5
}
